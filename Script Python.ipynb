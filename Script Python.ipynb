{
 "cells": [
  {
   "cell_type": "code",
   "execution_count": 2,
   "id": "0cd79940",
   "metadata": {},
   "outputs": [],
   "source": [
    "import psycopg2\n",
    "\n",
    "# Connexion à la base de données\n",
    "conn = psycopg2.connect(\n",
    "    dbname='Ecole',\n",
    "    user='postgres',\n",
    "    password='admin',\n",
    "    host='localhost',\n",
    "    port='5432'\n",
    ")\n",
    "# Création d'un curseur\n",
    "cur = conn.cursor()"
   ]
  },
  {
   "cell_type": "code",
   "execution_count": 3,
   "id": "3d79fb79",
   "metadata": {},
   "outputs": [
    {
     "name": "stdout",
     "output_type": "stream",
     "text": [
      "La liste des étudiants:  (1, 'Mark', 'Watney', None, '777-555-1234', None, 2035, 5)\n",
      "\n",
      "La liste des enseignants:  (1, 'Jonas', 'Salk', None, 'Biologie', None, 'jsalk@school.org', '777-555-4321', 5)\n"
     ]
    }
   ],
   "source": [
    "# Étape 1 : Extraire les données \n",
    "cur.execute(\"SELECT * FROM étudiants;\")\n",
    "etudiants = cur.fetchall()\n",
    "for i in etudiants:\n",
    "    print(\"La liste des étudiants: \",i)\n",
    "cur.execute(\"SELECT * FROM enseignants;\")\n",
    "enseignants = cur.fetchall()\n",
    "for i in enseignants:\n",
    "    print(\"\\nLa liste des enseignants: \",i)"
   ]
  },
  {
   "cell_type": "code",
   "execution_count": 7,
   "id": "b6ac1cb9",
   "metadata": {},
   "outputs": [
    {
     "name": "stdout",
     "output_type": "stream",
     "text": [
      "Dictionnaire des étudiants :\n",
      "{'student_id': 1, 'nom': 'Mark', 'prenom': 'Watney', 'numero_salle': None, 'telephone': '777-555-1234', 'email': None, 'annee_obtention': 2035, 'numero_classe': 5}\n",
      "\n",
      "Dictionnaire des enseignants :\n",
      "{'teacher_id': 1, 'prenom': 'Jonas', 'nom': 'Salk', 'numero_salle': None, 'departement': 'Biologie', 'annee_obtention': None, 'email': 'jsalk@school.org', 'telephone': '777-555-4321', 'numero_classe': 5}\n"
     ]
    }
   ],
   "source": [
    "# Étape 2 : Stocker les données\n",
    "etudiants_list = []\n",
    "for i in etudiants:\n",
    "    etudiant_dict = {\n",
    "        \"student_id\": i[0],\n",
    "        \"nom\": i[1],\n",
    "        \"prenom\": i[2],\n",
    "        \"numero_salle\": i[3],\n",
    "        \"telephone\": i[4],\n",
    "        \"email\": i[5],\n",
    "        \"annee_obtention\": i[6],\n",
    "        \"numero_classe\": i[7]\n",
    "    }\n",
    "    etudiants_list.append(etudiant_dict)\n",
    "print(\"Dictionnaire des étudiants :\")\n",
    "for etudiant in etudiants_list:\n",
    "    print(etudiant)\n",
    "    \n",
    "enseignants_list = []\n",
    "for i in enseignants:\n",
    "    enseignant_dict = {\n",
    "        \"teacher_id\": i[0],\n",
    "        \"prenom\": i[1],\n",
    "        \"nom\": i[2],\n",
    "        \"numero_salle\": i[3],\n",
    "        \"departement\": i[4],\n",
    "        \"annee_obtention\": i[5],\n",
    "        \"email\": i[6],\n",
    "        \"telephone\": i[7],\n",
    "        \"numero_classe\": i[8]\n",
    "    }\n",
    "    enseignants_list.append(enseignant_dict)\n",
    "print(\"\\nDictionnaire des enseignants :\")\n",
    "for enseignant in enseignants_list:\n",
    "    print(enseignant)"
   ]
  },
  {
   "cell_type": "code",
   "execution_count": 11,
   "id": "cde03284",
   "metadata": {},
   "outputs": [
    {
     "name": "stdout",
     "output_type": "stream",
     "text": [
      "Étudiant : Watney Mark -> Enseignant : Jonas Salk (Classe : 5)\n"
     ]
    }
   ],
   "source": [
    "# Étape 3 : Associer les étudiants aux enseignants par classe\n",
    "associations = []\n",
    "for i in etudiants_list:\n",
    "    for j in enseignants_list:\n",
    "        if i['numero_classe'] == j['numero_classe']:\n",
    "            association = {\n",
    "                \"Etudiant\": f\"{i['prenom']} {i['nom']}\",\n",
    "                \"Enseignant\": f\"{j['prenom']} {j['nom']}\",\n",
    "                \"Classe\": i['numero_classe']\n",
    "            }\n",
    "            associations.append(association)\n",
    "\n",
    "for i in associations:\n",
    "    print(f\"Étudiant : {i['Etudiant']} -> Enseignant : {i['Enseignant']} (Classe : {i['Classe']})\")"
   ]
  },
  {
   "cell_type": "code",
   "execution_count": 12,
   "id": "b2dcfbd0",
   "metadata": {},
   "outputs": [
    {
     "name": "stdout",
     "output_type": "stream",
     "text": [
      "Le nombre d'étudiants pour l'enseignant 'Jonas Salk' est : 1\n"
     ]
    }
   ],
   "source": [
    "# Étape 6 : Compter le nombre d'étudiants pour chaque enseignant\n",
    "nb_etudiant = {}\n",
    "for i in etudiants_list:\n",
    "    for j in enseignants_list:\n",
    "        if i['numero_classe'] == j['numero_classe']:\n",
    "            enseignant_nom = f\"{j['prenom']} {j['nom']}\"\n",
    "            if enseignant_nom in nb_etudiant:\n",
    "                nb_etudiant[enseignant_nom] += 1\n",
    "            else:\n",
    "                nb_etudiant[enseignant_nom] = 1\n",
    "            break\n",
    "for enseignant, i in nb_etudiant.items():\n",
    "    print(f\"Le nombre d'étudiants pour l'enseignant '{enseignant}' est : {i}\")"
   ]
  },
  {
   "cell_type": "code",
   "execution_count": 13,
   "id": "3b674eba",
   "metadata": {},
   "outputs": [],
   "source": [
    "# Fermeture du curseur et de la connexion\n",
    "cur.close()\n",
    "conn.close()"
   ]
  },
  {
   "cell_type": "code",
   "execution_count": null,
   "id": "5bc4d827",
   "metadata": {},
   "outputs": [],
   "source": []
  }
 ],
 "metadata": {
  "kernelspec": {
   "display_name": "Python 3 (ipykernel)",
   "language": "python",
   "name": "python3"
  },
  "language_info": {
   "codemirror_mode": {
    "name": "ipython",
    "version": 3
   },
   "file_extension": ".py",
   "mimetype": "text/x-python",
   "name": "python",
   "nbconvert_exporter": "python",
   "pygments_lexer": "ipython3",
   "version": "3.11.7"
  }
 },
 "nbformat": 4,
 "nbformat_minor": 5
}
